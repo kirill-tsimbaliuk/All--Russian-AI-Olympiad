{
  "nbformat": 4,
  "nbformat_minor": 0,
  "metadata": {
    "colab": {
      "provenance": []
    },
    "kernelspec": {
      "name": "python3",
      "display_name": "Python 3"
    },
    "language_info": {
      "name": "python"
    }
  },
  "cells": [
    {
      "cell_type": "code",
      "execution_count": 1,
      "metadata": {
        "id": "KpZnGy52I0qG"
      },
      "outputs": [],
      "source": [
        "import cv2\n",
        "from matplotlib import pyplot as plt\n",
        "import torch\n",
        "from torchvision import transforms\n",
        "from torch import nn\n",
        "import numpy as np\n",
        "from torchvision.models import resnet152, ResNet152_Weights, resnet50, ResNet50_Weights, resnet18, ResNet18_Weights, resnet34, ResNet34_Weights, resnet101, ResNet101_Weights"
      ]
    },
    {
      "cell_type": "code",
      "source": [
        "def preprocess(image):\n",
        "    if type(image) is str:\n",
        "        return transforms.Compose((\n",
        "            transforms.ToTensor(),\n",
        "            transforms.Normalize(\n",
        "                mean=[0.485, 0.456, 0.406], std=[0.229, 0.224, 0.225]\n",
        "            )))(cv2.resize(cv2.cvtColor(cv2.imread(image), cv2.COLOR_BGR2RGB), (224, 224)) / 255)\n",
        "    elif type(image) is np.ndarray:\n",
        "        return transforms.Compose((\n",
        "            transforms.ToTensor(),\n",
        "            transforms.Resize((224, 224)),\n",
        "            transforms.Normalize(\n",
        "                mean=[0.485, 0.456, 0.406], std=[0.229, 0.224, 0.225]\n",
        "            )))(image)\n",
        "    elif type(image) is torch.Tensor:\n",
        "        return transforms.Compose((\n",
        "            transforms.Resize((224, 224)),\n",
        "            transforms.Normalize(\n",
        "                mean=[0.485, 0.456, 0.406], std=[0.229, 0.224, 0.225]\n",
        "            )))(image)"
      ],
      "metadata": {
        "id": "Iqa7a-BgMA19"
      },
      "execution_count": 2,
      "outputs": []
    },
    {
      "cell_type": "code",
      "source": [
        "class ResNet18(nn.Module):\n",
        "    def __init__(self):\n",
        "        super().__init__()\n",
        "\n",
        "        self.backbone = resnet18(weights=ResNet18_Weights.IMAGENET1K_V1)\n",
        "        self.backbone.fc = nn.Identity()\n",
        "\n",
        "    def forward(self, x):\n",
        "        return self.backbone(x)\n",
        "\n",
        "class ResNet34(nn.Module):\n",
        "    def __init__(self):\n",
        "        super().__init__()\n",
        "\n",
        "        self.backbone = resnet34(weights=ResNet34_Weights.IMAGENET1K_V1)\n",
        "        self.backbone.fc = nn.Identity()\n",
        "\n",
        "    def forward(self, x):\n",
        "        return self.backbone(x)\n",
        "\n",
        "class ResNet50(nn.Module):\n",
        "    def __init__(self):\n",
        "        super().__init__()\n",
        "\n",
        "        self.backbone = resnet50(weights=ResNet50_Weights.IMAGENET1K_V2)\n",
        "        self.backbone.fc = nn.Identity()\n",
        "\n",
        "    def forward(self, x):\n",
        "        return self.backbone(x)\n",
        "\n",
        "class ResNet101(nn.Module):\n",
        "    def __init__(self):\n",
        "        super().__init__()\n",
        "\n",
        "        self.backbone = resnet101(weights=ResNet101_Weights.IMAGENET1K_V2)\n",
        "        self.backbone.fc = nn.Identity()\n",
        "\n",
        "    def forward(self, x):\n",
        "        return self.backbone(x)\n",
        "\n",
        "class ResNet152(nn.Module):\n",
        "    def __init__(self):\n",
        "        super().__init__()\n",
        "\n",
        "        self.backbone = resnet152(weights=ResNet152_Weights.IMAGENET1K_V2)\n",
        "        self.backbone.fc = nn.Identity()\n",
        "\n",
        "    def forward(self, x):\n",
        "        return self.backbone(x)"
      ],
      "metadata": {
        "id": "bRYbYepzMwwS"
      },
      "execution_count": 7,
      "outputs": []
    },
    {
      "cell_type": "code",
      "source": [
        "print(\"ResNet18:\", ResNet18()(preprocess('/content/unknown.png').float()[None]).shape)\n",
        "print(\"ResNet34:\", ResNet34()(preprocess('/content/unknown.png').float()[None]).shape)\n",
        "print(\"ResNet50:\", ResNet50()(preprocess('/content/unknown.png').float()[None]).shape)\n",
        "print(\"ResNet101:\", ResNet101()(preprocess('/content/unknown.png').float()[None]).shape)\n",
        "print(\"ResNet152:\", ResNet152()(preprocess('/content/unknown.png').float()[None]).shape)"
      ],
      "metadata": {
        "colab": {
          "base_uri": "https://localhost:8080/"
        },
        "id": "Tq_Bv-tXMZvw",
        "outputId": "33698271-eccb-4629-ca65-6d447d0c5c43"
      },
      "execution_count": 15,
      "outputs": [
        {
          "output_type": "stream",
          "name": "stdout",
          "text": [
            "ResNet18: torch.Size([1, 512])\n",
            "ResNet34: torch.Size([1, 512])\n",
            "ResNet50: torch.Size([1, 2048])\n",
            "ResNet101: torch.Size([1, 2048])\n",
            "ResNet152: torch.Size([1, 2048])\n"
          ]
        }
      ]
    },
    {
      "cell_type": "code",
      "source": [],
      "metadata": {
        "id": "w5K95DpeNAO-"
      },
      "execution_count": null,
      "outputs": []
    }
  ]
}