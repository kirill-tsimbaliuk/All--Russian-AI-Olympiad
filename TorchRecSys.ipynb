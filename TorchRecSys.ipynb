{
  "cells": [
    {
      "cell_type": "code",
      "execution_count": 40,
      "metadata": {
        "id": "LTekCVbcC00q"
      },
      "outputs": [],
      "source": [
        "import torch\n",
        "import pandas as pd\n",
        "import numpy as np"
      ]
    },
    {
      "cell_type": "code",
      "execution_count": 4,
      "metadata": {
        "id": "Rg-yzA2idL6O"
      },
      "outputs": [],
      "source": [
        "df = pd.read_csv('experiments.csv')"
      ]
    },
    {
      "cell_type": "code",
      "execution_count": 97,
      "metadata": {
        "colab": {
          "base_uri": "https://localhost:8080/",
          "height": 140
        },
        "id": "8vHudVItwsGe",
        "outputId": "056bbbf0-3863-47c2-f74d-16db905b3d24"
      },
      "outputs": [
        {
          "ename": "SyntaxError",
          "evalue": "ignored",
          "output_type": "error",
          "traceback": [
            "\u001b[0;36m  File \u001b[0;32m\"<ipython-input-97-9a24cb3f0586>\"\u001b[0;36m, line \u001b[0;32m47\u001b[0m\n\u001b[0;31m    def save_model(self, file_path):\u001b[0m\n\u001b[0m                                    ^\u001b[0m\n\u001b[0;31mSyntaxError\u001b[0m\u001b[0;31m:\u001b[0m incomplete input\n"
          ]
        }
      ],
      "source": [
        "class TorchRecSys:\n",
        "\n",
        "    def __init__(self):\n",
        "        self.groups = []\n",
        "        self.groups_keys = []\n",
        "        self.n_groups = 0\n",
        "        self.n_users = 0\n",
        "        self.users = None\n",
        "\n",
        "    def load_from_df(self, df):\n",
        "        \"\"\"\n",
        "        Функция построения талбицы пользователей\n",
        "        По сути обучение\n",
        "        \"\"\"\n",
        "        self.groups = df['community_id'].unique()\n",
        "        self.groups_keys = dict([[value, index] for index, value in enumerate(self.groups)])\n",
        "        self.n_groups = len(self.groups)\n",
        "\n",
        "        users = []\n",
        "        self.users_index = df['customer_id'].unique()\n",
        "        for user in self.users_index:\n",
        "            user_vector = torch.zeros([self.n_groups])\n",
        "            for line in df[df['customer_id'] == user].iterrows():\n",
        "                user_vector[self.groups_keys[line[1]['community_id']]] +=1\n",
        "            users.append(user_vector)\n",
        "\n",
        "        self.users = torch.stack(users)\n",
        "        self.n_users = len(self.users)\n",
        "\n",
        "    def predict(self, target_user_id, n):\n",
        "        \"\"\"\n",
        "        :param: target_user_id - id пользователя, он должен был быть в обучающей выборке\n",
        "        :param: n - сколько каналов рекомендовать\n",
        "\n",
        "        Функция возвращает топ-n каналов, на которые пользователь ещё не подписан\n",
        "        \"\"\"\n",
        "        target_user = self.users[np.where(self.users_index == target_user_id)][0]\n",
        "        return self.predict_for_user_vector(target_user, n)\n",
        "\n",
        "\n",
        "    def predict_for_user_vector(self, target_user, n):\n",
        "        sim = torch.nn.functional.cosine_similarity(torch.stack([target_user for _ in range(self.n_users)]), self.users)\n",
        "        res = torch.mv(self.users.T, sim)\n",
        "        channels_id = torch.topk(res * ((res/max(res)).ceil() - target_user), n).indices.tolist()\n",
        "        return [self.groups[channel_id] for channel_id in channels_id]\n",
        "\n",
        "    # def save_model(self, file_path):\n",
        "    #     torch.save(self.users, file_path)\n",
        "\n",
        "    # def load_model(self, file_path):\n",
        "    #     self.users = torch.load(file_path)\n"
      ]
    },
    {
      "cell_type": "code",
      "execution_count": 92,
      "metadata": {
        "id": "JpAyp-RFy70_"
      },
      "outputs": [],
      "source": [
        "recsys = TorchRecSys()"
      ]
    },
    {
      "cell_type": "code",
      "execution_count": 93,
      "metadata": {
        "id": "AX6AurgDzaHK"
      },
      "outputs": [],
      "source": [
        "recsys.load_from_df(df)"
      ]
    },
    {
      "cell_type": "code",
      "execution_count": 94,
      "metadata": {
        "colab": {
          "base_uri": "https://localhost:8080/",
          "height": 36
        },
        "id": "PUloO_BRBKJV",
        "outputId": "bb6702d5-0d64-4175-c1ef-48dccef3f5f5"
      },
      "outputs": [
        {
          "data": {
            "application/vnd.google.colaboratory.intrinsic+json": {
              "type": "string"
            },
            "text/plain": [
              "'947224211267aefcc2e3e9c524fdf46ce329bc638e8bf1b7ce5a43f58d9dba320c133d58b3ca781fac348fa4beaec4e39b9717168b3df67a1d187a706523cbf2'"
            ]
          },
          "execution_count": 94,
          "metadata": {},
          "output_type": "execute_result"
        }
      ],
      "source": [
        "df['customer_id'].iloc[0]"
      ]
    },
    {
      "cell_type": "code",
      "execution_count": 96,
      "metadata": {
        "colab": {
          "base_uri": "https://localhost:8080/"
        },
        "id": "Y5O7TD0RA-L8",
        "outputId": "da29ea1e-4865-4cb7-b5ad-4ed744fea45a"
      },
      "outputs": [
        {
          "data": {
            "text/plain": [
              "['4e035d2ac419b6c6ea89c6a4a2e8157177b3ecaf85df612d07596ba300f389712b6a9f3f1552ba1bdbc994b3219c6c12fb6ab029840f247a9520006cad2500de',\n",
              " '5bf72e0f30296cdf893cac3b9f679c809f9c491fd3f471e18d9b018b61e729d87d44c9885a5c0bbc064b0853f83f5f3478cb2cf6abc205085eed11baac23abed',\n",
              " '507eab83ef051545226393d21d65cd50b5b6d91de7a4221953f053ec05dc58b42d83a729aa246cbf698adf99cb86776eceaffdd23f22dd9d5978250e1451cda4',\n",
              " '4ea139a01a60ff0b309771b6d01b08a4f9ec33965f3fbfe84efc85ae889555d1e432ef0bb135d168be6dee4ff2eb57138b796d171a50d1243ba46c97a646d11c',\n",
              " '4e3418966b6fdd276b16b6f2c5349899687553f53047f27ed5e6b440d4b46cfa33416ca41f3445ae8869778d229e663e0dd574daa7e473a408390567397f6d7e',\n",
              " '3c46dd6baed8a58687695585666f41703907161a1ec6425de845732f263bf34b13531a50acb6a37d2586e3fe560ea4c7f16b61addb16e73fcf22e3dc8b10c934',\n",
              " '3bbc950620d9c02051d2040f4194852efa4b787f5e373c8a14bb2f7808553600756cde1466b43e72bf7fa199b15a510415050e1381f3ff678708bc1977ca210b']"
            ]
          },
          "execution_count": 96,
          "metadata": {},
          "output_type": "execute_result"
        }
      ],
      "source": [
        "recsys.predict(\"947224211267aefcc2e3e9c524fdf46ce329bc638e8bf1b7ce5a43f58d9dba320c133d58b3ca781fac348fa4beaec4e39b9717168b3df67a1d187a706523cbf2\", 7)"
      ]
    },
    {
      "cell_type": "code",
      "execution_count": null,
      "metadata": {
        "id": "y-RAZZenBQPn"
      },
      "outputs": [],
      "source": []
    }
  ],
  "metadata": {
    "colab": {
      "provenance": []
    },
    "kernelspec": {
      "display_name": "Python 3",
      "name": "python3"
    },
    "language_info": {
      "name": "python"
    }
  },
  "nbformat": 4,
  "nbformat_minor": 0
}
